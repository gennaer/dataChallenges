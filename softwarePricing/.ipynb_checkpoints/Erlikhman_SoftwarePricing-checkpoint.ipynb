{
 "cells": [
  {
   "cell_type": "markdown",
   "metadata": {},
   "source": [
    "# Table of contents\n",
    "1. [Takeaways](#Takeaways)\n",
    "2. [Data Cleaning](#cleaning)\n",
    "3. [Part 1: Software Pricing](#part1)\n",
    "4. [Part 2: User Segmentation](#part2)\n",
    "5. [Part 3: A/B Test Optimization](#part3) "
   ]
  },
  {
   "cell_type": "markdown",
   "metadata": {},
   "source": [
    "# Data Challenge 2 - Pricing Test <a name=\"description\"></a>\n",
    "\n",
    "Please limit yourself to 4 hours time!\n",
    "\n",
    "# Goal\n",
    "Pricing optimization is, non surprisingly, another area where data science can provide huge value.\n",
    "\n",
    "The goal here is to evaluate whether a pricing test running on the site has been successful. As always, you should focus on user segmentation and provide insights about segments who behave differently as well as any other insights you might find.\n",
    "\n",
    "## Challenge Description\n",
    "Company XYZ sells a software for \\\\$39. Since revenue has been flat for some time, the VP of Product has decided to run a test increasing the price. She hopes that this would increase revenue. In the experiment, 66\\% of the users have seen the old price (\\\\$39), while a random sample of 33\\% users a higher price (\\\\$59).\n",
    "\n",
    "The test has been running for some time and the VP of Product is interested in understanding how it went and whether it would make sense to increase the price for all the users. Especially she asked you the following questions:\n",
    "\n",
    "1. Should the company sell its software for \\\\$39 or \\\\$59?\n",
    "\n",
    "2. The VP of Product is interested in having a holistic view into user behavior, especially focusing on actionable insights that might increase conversion rate. What are your main findings looking at the data?\n",
    "\n",
    "3. The VP of Product feels that the test has been running for too long and she should have been able to get statistically significant results in a shorter time. Do you agree with her intuition? After how many days would you have stopped the test? Please, explain why."
   ]
  },
  {
   "cell_type": "markdown",
   "metadata": {},
   "source": [
    "## Takeaways <a name=\"takeaways\"></a>\n",
    "\n",
    "\n",
    "1. The company should sell its software for \\\\$59. Analysis shows the conversion rate at the new price is well above the break-even point, wih a predicted increase in revenue is 13 to 26\\%, but at the expense of ~22\\% of customers.\n",
    "\n",
    "\n",
    "2. Friend referral should be encouraged, since it is the source with highest conversion rate, at either price point. Facebook and Google, are the largest drivers of ad and search traffic. At the higher price point, boosting Google traffic should be emphasized over Facebook because Google traffic has a higher conversion rate in terms of both ads and search.\n",
    "\n",
    "\n",
    "3. If the goal was to monitor conversion rate to ensure that it did not dip below the break-even point for the company, the experiment could have been performed in about 1/3 of the time and concluded after a month. This would have provided the company with a much faster insight. However, it's important to be careful about hindsight bias. Discussing business goals with the VP of Product is necessary to know if a smaller increase over the break-even point also would have been meaningful. If so, a somewhat longer experiment may have been necessary."
   ]
  },
  {
   "cell_type": "code",
   "execution_count": 1,
   "metadata": {},
   "outputs": [],
   "source": [
    "import pandas as pd\n",
    "import numpy as np\n",
    "from statsmodels.stats.proportion import proportions_ztest as pztest\n",
    "import matplotlib.pyplot as plt\n",
    "import matplotlib.patches as mpatches\n",
    "import seaborn as sns\n",
    "%matplotlib inline"
   ]
  },
  {
   "cell_type": "markdown",
   "metadata": {},
   "source": [
    "## Data Preprocessing <a name = 'cleaning'></a>"
   ]
  },
  {
   "cell_type": "markdown",
   "metadata": {},
   "source": [
    "General plan: \n",
    "    - check for missing data and duplicated entries\n",
    "    - check for correct / expected values for each variable"
   ]
  },
  {
   "cell_type": "code",
   "execution_count": 2,
   "metadata": {},
   "outputs": [],
   "source": [
    "res = pd.read_csv('test_results.csv', index_col=0)"
   ]
  },
  {
   "cell_type": "code",
   "execution_count": 3,
   "metadata": {},
   "outputs": [
    {
     "data": {
      "text/html": [
       "<div>\n",
       "<style scoped>\n",
       "    .dataframe tbody tr th:only-of-type {\n",
       "        vertical-align: middle;\n",
       "    }\n",
       "\n",
       "    .dataframe tbody tr th {\n",
       "        vertical-align: top;\n",
       "    }\n",
       "\n",
       "    .dataframe thead th {\n",
       "        text-align: right;\n",
       "    }\n",
       "</style>\n",
       "<table border=\"1\" class=\"dataframe\">\n",
       "  <thead>\n",
       "    <tr style=\"text-align: right;\">\n",
       "      <th></th>\n",
       "      <th>user_id</th>\n",
       "      <th>timestamp</th>\n",
       "      <th>source</th>\n",
       "      <th>device</th>\n",
       "      <th>operative_system</th>\n",
       "      <th>test</th>\n",
       "      <th>price</th>\n",
       "      <th>converted</th>\n",
       "    </tr>\n",
       "  </thead>\n",
       "  <tbody>\n",
       "    <tr>\n",
       "      <th>0</th>\n",
       "      <td>604839</td>\n",
       "      <td>2015-05-08 03:38:34</td>\n",
       "      <td>ads_facebook</td>\n",
       "      <td>mobile</td>\n",
       "      <td>iOS</td>\n",
       "      <td>0</td>\n",
       "      <td>39.0</td>\n",
       "      <td>0</td>\n",
       "    </tr>\n",
       "    <tr>\n",
       "      <th>1</th>\n",
       "      <td>624057</td>\n",
       "      <td>2015-05-10 21:08:46</td>\n",
       "      <td>seo-google</td>\n",
       "      <td>mobile</td>\n",
       "      <td>android</td>\n",
       "      <td>0</td>\n",
       "      <td>39.0</td>\n",
       "      <td>0</td>\n",
       "    </tr>\n",
       "    <tr>\n",
       "      <th>2</th>\n",
       "      <td>317970</td>\n",
       "      <td>2015-04-04 15:01:23</td>\n",
       "      <td>ads-bing</td>\n",
       "      <td>mobile</td>\n",
       "      <td>android</td>\n",
       "      <td>0</td>\n",
       "      <td>39.0</td>\n",
       "      <td>0</td>\n",
       "    </tr>\n",
       "    <tr>\n",
       "      <th>3</th>\n",
       "      <td>685636</td>\n",
       "      <td>2015-05-07 07:26:01</td>\n",
       "      <td>direct_traffic</td>\n",
       "      <td>mobile</td>\n",
       "      <td>iOS</td>\n",
       "      <td>1</td>\n",
       "      <td>59.0</td>\n",
       "      <td>0</td>\n",
       "    </tr>\n",
       "    <tr>\n",
       "      <th>4</th>\n",
       "      <td>820854</td>\n",
       "      <td>2015-05-24 11:04:40</td>\n",
       "      <td>ads_facebook</td>\n",
       "      <td>web</td>\n",
       "      <td>mac</td>\n",
       "      <td>0</td>\n",
       "      <td>39.0</td>\n",
       "      <td>0</td>\n",
       "    </tr>\n",
       "    <tr>\n",
       "      <th>5</th>\n",
       "      <td>169971</td>\n",
       "      <td>2015-04-13 12:07:08</td>\n",
       "      <td>ads-google</td>\n",
       "      <td>mobile</td>\n",
       "      <td>iOS</td>\n",
       "      <td>0</td>\n",
       "      <td>39.0</td>\n",
       "      <td>0</td>\n",
       "    </tr>\n",
       "    <tr>\n",
       "      <th>6</th>\n",
       "      <td>600150</td>\n",
       "      <td>2015-03-04 14:45:44</td>\n",
       "      <td>seo_facebook</td>\n",
       "      <td>web</td>\n",
       "      <td>windows</td>\n",
       "      <td>0</td>\n",
       "      <td>39.0</td>\n",
       "      <td>0</td>\n",
       "    </tr>\n",
       "    <tr>\n",
       "      <th>7</th>\n",
       "      <td>798371</td>\n",
       "      <td>2015-03-15 08:19:29</td>\n",
       "      <td>ads-bing</td>\n",
       "      <td>mobile</td>\n",
       "      <td>android</td>\n",
       "      <td>1</td>\n",
       "      <td>59.0</td>\n",
       "      <td>1</td>\n",
       "    </tr>\n",
       "    <tr>\n",
       "      <th>8</th>\n",
       "      <td>447194</td>\n",
       "      <td>2015-03-28 12:28:10</td>\n",
       "      <td>ads_facebook</td>\n",
       "      <td>web</td>\n",
       "      <td>windows</td>\n",
       "      <td>1</td>\n",
       "      <td>59.0</td>\n",
       "      <td>0</td>\n",
       "    </tr>\n",
       "    <tr>\n",
       "      <th>9</th>\n",
       "      <td>431639</td>\n",
       "      <td>2015-04-24 12:42:18</td>\n",
       "      <td>ads_facebook</td>\n",
       "      <td>web</td>\n",
       "      <td>windows</td>\n",
       "      <td>1</td>\n",
       "      <td>59.0</td>\n",
       "      <td>0</td>\n",
       "    </tr>\n",
       "    <tr>\n",
       "      <th>10</th>\n",
       "      <td>590182</td>\n",
       "      <td>2015-04-17 13:30:04</td>\n",
       "      <td>ads-google</td>\n",
       "      <td>web</td>\n",
       "      <td>windows</td>\n",
       "      <td>0</td>\n",
       "      <td>39.0</td>\n",
       "      <td>0</td>\n",
       "    </tr>\n",
       "    <tr>\n",
       "      <th>11</th>\n",
       "      <td>606479</td>\n",
       "      <td>2015-05-15 12:36:46</td>\n",
       "      <td>direct_traffic</td>\n",
       "      <td>web</td>\n",
       "      <td>mac</td>\n",
       "      <td>0</td>\n",
       "      <td>39.0</td>\n",
       "      <td>0</td>\n",
       "    </tr>\n",
       "    <tr>\n",
       "      <th>12</th>\n",
       "      <td>425567</td>\n",
       "      <td>2015-04-24 10:09:04</td>\n",
       "      <td>ads_facebook</td>\n",
       "      <td>web</td>\n",
       "      <td>windows</td>\n",
       "      <td>0</td>\n",
       "      <td>39.0</td>\n",
       "      <td>0</td>\n",
       "    </tr>\n",
       "    <tr>\n",
       "      <th>13</th>\n",
       "      <td>460593</td>\n",
       "      <td>2015-03-21 09:43:51</td>\n",
       "      <td>friend_referral</td>\n",
       "      <td>mobile</td>\n",
       "      <td>iOS</td>\n",
       "      <td>0</td>\n",
       "      <td>39.0</td>\n",
       "      <td>1</td>\n",
       "    </tr>\n",
       "    <tr>\n",
       "      <th>14</th>\n",
       "      <td>708831</td>\n",
       "      <td>2015-05-29 08:19:24</td>\n",
       "      <td>ads-google</td>\n",
       "      <td>mobile</td>\n",
       "      <td>iOS</td>\n",
       "      <td>0</td>\n",
       "      <td>39.0</td>\n",
       "      <td>0</td>\n",
       "    </tr>\n",
       "    <tr>\n",
       "      <th>15</th>\n",
       "      <td>552048</td>\n",
       "      <td>2015-03-22 08:58:32</td>\n",
       "      <td>ads-bing</td>\n",
       "      <td>web</td>\n",
       "      <td>windows</td>\n",
       "      <td>1</td>\n",
       "      <td>59.0</td>\n",
       "      <td>0</td>\n",
       "    </tr>\n",
       "    <tr>\n",
       "      <th>16</th>\n",
       "      <td>444108</td>\n",
       "      <td>2015-03-16 12:20:49</td>\n",
       "      <td>seo-google</td>\n",
       "      <td>web</td>\n",
       "      <td>mac</td>\n",
       "      <td>0</td>\n",
       "      <td>39.0</td>\n",
       "      <td>0</td>\n",
       "    </tr>\n",
       "    <tr>\n",
       "      <th>17</th>\n",
       "      <td>692331</td>\n",
       "      <td>2015-03-08 13:19:55</td>\n",
       "      <td>ads-google</td>\n",
       "      <td>mobile</td>\n",
       "      <td>iOS</td>\n",
       "      <td>0</td>\n",
       "      <td>39.0</td>\n",
       "      <td>0</td>\n",
       "    </tr>\n",
       "    <tr>\n",
       "      <th>18</th>\n",
       "      <td>599771</td>\n",
       "      <td>2015-03-28 18:41:37</td>\n",
       "      <td>direct_traffic</td>\n",
       "      <td>mobile</td>\n",
       "      <td>iOS</td>\n",
       "      <td>1</td>\n",
       "      <td>59.0</td>\n",
       "      <td>0</td>\n",
       "    </tr>\n",
       "    <tr>\n",
       "      <th>19</th>\n",
       "      <td>817127</td>\n",
       "      <td>2015-03-04 15:52:29</td>\n",
       "      <td>ads_facebook</td>\n",
       "      <td>mobile</td>\n",
       "      <td>iOS</td>\n",
       "      <td>0</td>\n",
       "      <td>39.0</td>\n",
       "      <td>0</td>\n",
       "    </tr>\n",
       "  </tbody>\n",
       "</table>\n",
       "</div>"
      ],
      "text/plain": [
       "    user_id            timestamp           source  device operative_system  \\\n",
       "0    604839  2015-05-08 03:38:34     ads_facebook  mobile              iOS   \n",
       "1    624057  2015-05-10 21:08:46       seo-google  mobile          android   \n",
       "2    317970  2015-04-04 15:01:23         ads-bing  mobile          android   \n",
       "3    685636  2015-05-07 07:26:01   direct_traffic  mobile              iOS   \n",
       "4    820854  2015-05-24 11:04:40     ads_facebook     web              mac   \n",
       "5    169971  2015-04-13 12:07:08       ads-google  mobile              iOS   \n",
       "6    600150  2015-03-04 14:45:44     seo_facebook     web          windows   \n",
       "7    798371  2015-03-15 08:19:29         ads-bing  mobile          android   \n",
       "8    447194  2015-03-28 12:28:10     ads_facebook     web          windows   \n",
       "9    431639  2015-04-24 12:42:18     ads_facebook     web          windows   \n",
       "10   590182  2015-04-17 13:30:04       ads-google     web          windows   \n",
       "11   606479  2015-05-15 12:36:46   direct_traffic     web              mac   \n",
       "12   425567  2015-04-24 10:09:04     ads_facebook     web          windows   \n",
       "13   460593  2015-03-21 09:43:51  friend_referral  mobile              iOS   \n",
       "14   708831  2015-05-29 08:19:24       ads-google  mobile              iOS   \n",
       "15   552048  2015-03-22 08:58:32         ads-bing     web          windows   \n",
       "16   444108  2015-03-16 12:20:49       seo-google     web              mac   \n",
       "17   692331  2015-03-08 13:19:55       ads-google  mobile              iOS   \n",
       "18   599771  2015-03-28 18:41:37   direct_traffic  mobile              iOS   \n",
       "19   817127  2015-03-04 15:52:29     ads_facebook  mobile              iOS   \n",
       "\n",
       "    test  price  converted  \n",
       "0      0   39.0          0  \n",
       "1      0   39.0          0  \n",
       "2      0   39.0          0  \n",
       "3      1   59.0          0  \n",
       "4      0   39.0          0  \n",
       "5      0   39.0          0  \n",
       "6      0   39.0          0  \n",
       "7      1   59.0          1  \n",
       "8      1   59.0          0  \n",
       "9      1   59.0          0  \n",
       "10     0   39.0          0  \n",
       "11     0   39.0          0  \n",
       "12     0   39.0          0  \n",
       "13     0   39.0          1  \n",
       "14     0   39.0          0  \n",
       "15     1   59.0          0  \n",
       "16     0   39.0          0  \n",
       "17     0   39.0          0  \n",
       "18     1   59.0          0  \n",
       "19     0   39.0          0  "
      ]
     },
     "execution_count": 3,
     "metadata": {},
     "output_type": "execute_result"
    }
   ],
   "source": [
    "res.head(20)"
   ]
  },
  {
   "cell_type": "markdown",
   "metadata": {},
   "source": [
    "It was not clear from the description, but friend_referral and direct_traffic are examples of sources, not separate columns\n",
    "\n",
    "First, let's check a few things about the data: are there any missing data?"
   ]
  },
  {
   "cell_type": "code",
   "execution_count": 4,
   "metadata": {},
   "outputs": [
    {
     "data": {
      "text/plain": [
       "user_id                 0\n",
       "timestamp             334\n",
       "source                312\n",
       "device                  0\n",
       "operative_system    20339\n",
       "test                    0\n",
       "price                   0\n",
       "converted               0\n",
       "dtype: int64"
      ]
     },
     "execution_count": 4,
     "metadata": {},
     "output_type": "execute_result"
    }
   ],
   "source": [
    "res.isna().sum()"
   ]
  },
  {
   "cell_type": "markdown",
   "metadata": {},
   "source": [
    "None of the test, price, or converted data are missing, which are the basic variables needed to answer the first question about conversion as a function of price.\n",
    "\n",
    "For segmentation and making sure of proper random assignment, we may later worry about operative_system. Skip for now.\n",
    "\n",
    "Let's check that each column has the values that we expect it to have. For users, we expect unique users: we don't want a user participating in the both the test and control group nor do we want users being in the same group multiple times."
   ]
  },
  {
   "cell_type": "code",
   "execution_count": 5,
   "metadata": {},
   "outputs": [
    {
     "data": {
      "text/plain": [
       "316800"
      ]
     },
     "execution_count": 5,
     "metadata": {},
     "output_type": "execute_result"
    }
   ],
   "source": [
    "len(res.user_id.unique())"
   ]
  },
  {
   "cell_type": "code",
   "execution_count": 6,
   "metadata": {},
   "outputs": [
    {
     "data": {
      "text/plain": [
       "316800"
      ]
     },
     "execution_count": 6,
     "metadata": {},
     "output_type": "execute_result"
    }
   ],
   "source": [
    "len(res.user_id)"
   ]
  },
  {
   "cell_type": "markdown",
   "metadata": {},
   "source": [
    "Ok so all users are unique. Good. Let's look at the other variables. \n",
    "\n",
    "We can start by breaking up the timestamp into days, month, years. When I try to convert to a datetime object, I get an error though that says that the minutes aren't in the range 0-59 (actually are 1-60). That's annoying. For now, I'm not planning on using the hour and minute data so maybe let's split it off and get to it later. (Note that if 60 should be 0 of next hour then we may have to shift all those hours forward, which may mean shifting some days forward if the hour goes from 23 --> 24 and then some months forward if we go from the 30th to the 31st for a month that only has 30 days, for example. There are only 101 such cases where the minutes may shift the day which is less than 0.1%. Given time constrains, let's ignore)"
   ]
  },
  {
   "cell_type": "code",
   "execution_count": 7,
   "metadata": {},
   "outputs": [
    {
     "data": {
      "text/plain": [
       "0    2015-05-08 03:38:34\n",
       "1    2015-05-10 21:08:46\n",
       "2    2015-04-04 15:01:23\n",
       "3    2015-05-07 07:26:01\n",
       "4    2015-05-24 11:04:40\n",
       "Name: timestamp, dtype: object"
      ]
     },
     "execution_count": 7,
     "metadata": {},
     "output_type": "execute_result"
    }
   ],
   "source": [
    "res.timestamp.head()"
   ]
  },
  {
   "cell_type": "code",
   "execution_count": 8,
   "metadata": {},
   "outputs": [],
   "source": [
    "t = res.timestamp.str.split(' ', expand=True)\n",
    "# just converting the year, month, day column also gives an error, so work around that\n",
    "# Some years are 2815 instead of 2015. Let's fix that while we're at it\n",
    "t2 = t[0].str.split('-',expand=True)\n",
    "t2[0][t2[0]=='2815']='2015'\n",
    "# let's join these back up and convert to a datetime object\n",
    "res['date'] = pd.to_datetime(t2[0]+'-'+t2[1]+'-'+t2[2])\n",
    "\n",
    "#t3 = t[1].str.split(':',expand=True)\n",
    "#t3.columns = ['h','m','s']"
   ]
  },
  {
   "cell_type": "code",
   "execution_count": 9,
   "metadata": {},
   "outputs": [
    {
     "data": {
      "text/plain": [
       "direct_traffic     60307\n",
       "ads-google         59319\n",
       "ads_facebook       53337\n",
       "ads_other          29849\n",
       "seo-google         23160\n",
       "ads-bing           22851\n",
       "seo_facebook       21185\n",
       "friend_referral    20672\n",
       "seo-other           9250\n",
       "ads-yahoo           7573\n",
       "seo-yahoo           6836\n",
       "seo-bing            2149\n",
       "Name: source, dtype: int64"
      ]
     },
     "execution_count": 9,
     "metadata": {},
     "output_type": "execute_result"
    }
   ],
   "source": [
    "res.source.value_counts()"
   ]
  },
  {
   "cell_type": "markdown",
   "metadata": {},
   "source": [
    "Nothing looks strange. Perhaps of later concern will be whether test and control groups are evenly split across sources. For now, let's make several other groupings here: [seo, ads, referral, direct] and [direct, referral, google, facebook, bing, yahoo, other]. I'm not sure if there will be enough time to explore these different segments, but can come back to this later in Part 2."
   ]
  },
  {
   "cell_type": "code",
   "execution_count": 10,
   "metadata": {},
   "outputs": [],
   "source": [
    "g1 = {'ads-google':'ads','ads_facebook':'ads','ads_other':'ads','direct_traffic':'direct',\n",
    "      'seo-google':'seo','ads-bing':'ads','seo_facebook':'seo','friend_referral':'referral',\n",
    "     'seo-other':'seo','ads-yahoo':'ads','seo-yahoo':'seo','seo-bing':'seo'}\n",
    "res['source_type'] = res.source.map(g1)\n",
    "\n",
    "g2 = {'ads-google':'google','ads_facebook':'facebook','ads_other':'other','direct_traffic':'direct',\n",
    "      'seo-google':'google','ads-bing':'bing','seo_facebook':'facebook','friend_referral':'referral',\n",
    "     'seo-other':'other','ads-yahoo':'yahoo','seo-yahoo':'yahoo','seo-bing':'bing'}\n",
    "res['source_site'] = res.source.map(g2)"
   ]
  },
  {
   "cell_type": "code",
   "execution_count": 11,
   "metadata": {},
   "outputs": [
    {
     "data": {
      "text/html": [
       "<div>\n",
       "<style scoped>\n",
       "    .dataframe tbody tr th:only-of-type {\n",
       "        vertical-align: middle;\n",
       "    }\n",
       "\n",
       "    .dataframe tbody tr th {\n",
       "        vertical-align: top;\n",
       "    }\n",
       "\n",
       "    .dataframe thead th {\n",
       "        text-align: right;\n",
       "    }\n",
       "</style>\n",
       "<table border=\"1\" class=\"dataframe\">\n",
       "  <thead>\n",
       "    <tr style=\"text-align: right;\">\n",
       "      <th></th>\n",
       "      <th>user_id</th>\n",
       "      <th>timestamp</th>\n",
       "      <th>source</th>\n",
       "      <th>device</th>\n",
       "      <th>operative_system</th>\n",
       "      <th>test</th>\n",
       "      <th>price</th>\n",
       "      <th>converted</th>\n",
       "      <th>date</th>\n",
       "      <th>source_type</th>\n",
       "      <th>source_site</th>\n",
       "    </tr>\n",
       "  </thead>\n",
       "  <tbody>\n",
       "    <tr>\n",
       "      <th>0</th>\n",
       "      <td>604839</td>\n",
       "      <td>2015-05-08 03:38:34</td>\n",
       "      <td>ads_facebook</td>\n",
       "      <td>mobile</td>\n",
       "      <td>iOS</td>\n",
       "      <td>0</td>\n",
       "      <td>39.0</td>\n",
       "      <td>0</td>\n",
       "      <td>2015-05-08</td>\n",
       "      <td>ads</td>\n",
       "      <td>facebook</td>\n",
       "    </tr>\n",
       "    <tr>\n",
       "      <th>1</th>\n",
       "      <td>624057</td>\n",
       "      <td>2015-05-10 21:08:46</td>\n",
       "      <td>seo-google</td>\n",
       "      <td>mobile</td>\n",
       "      <td>android</td>\n",
       "      <td>0</td>\n",
       "      <td>39.0</td>\n",
       "      <td>0</td>\n",
       "      <td>2015-05-10</td>\n",
       "      <td>seo</td>\n",
       "      <td>google</td>\n",
       "    </tr>\n",
       "    <tr>\n",
       "      <th>2</th>\n",
       "      <td>317970</td>\n",
       "      <td>2015-04-04 15:01:23</td>\n",
       "      <td>ads-bing</td>\n",
       "      <td>mobile</td>\n",
       "      <td>android</td>\n",
       "      <td>0</td>\n",
       "      <td>39.0</td>\n",
       "      <td>0</td>\n",
       "      <td>2015-04-04</td>\n",
       "      <td>ads</td>\n",
       "      <td>bing</td>\n",
       "    </tr>\n",
       "    <tr>\n",
       "      <th>3</th>\n",
       "      <td>685636</td>\n",
       "      <td>2015-05-07 07:26:01</td>\n",
       "      <td>direct_traffic</td>\n",
       "      <td>mobile</td>\n",
       "      <td>iOS</td>\n",
       "      <td>1</td>\n",
       "      <td>59.0</td>\n",
       "      <td>0</td>\n",
       "      <td>2015-05-07</td>\n",
       "      <td>direct</td>\n",
       "      <td>direct</td>\n",
       "    </tr>\n",
       "    <tr>\n",
       "      <th>4</th>\n",
       "      <td>820854</td>\n",
       "      <td>2015-05-24 11:04:40</td>\n",
       "      <td>ads_facebook</td>\n",
       "      <td>web</td>\n",
       "      <td>mac</td>\n",
       "      <td>0</td>\n",
       "      <td>39.0</td>\n",
       "      <td>0</td>\n",
       "      <td>2015-05-24</td>\n",
       "      <td>ads</td>\n",
       "      <td>facebook</td>\n",
       "    </tr>\n",
       "  </tbody>\n",
       "</table>\n",
       "</div>"
      ],
      "text/plain": [
       "   user_id            timestamp          source  device operative_system  \\\n",
       "0   604839  2015-05-08 03:38:34    ads_facebook  mobile              iOS   \n",
       "1   624057  2015-05-10 21:08:46      seo-google  mobile          android   \n",
       "2   317970  2015-04-04 15:01:23        ads-bing  mobile          android   \n",
       "3   685636  2015-05-07 07:26:01  direct_traffic  mobile              iOS   \n",
       "4   820854  2015-05-24 11:04:40    ads_facebook     web              mac   \n",
       "\n",
       "   test  price  converted       date source_type source_site  \n",
       "0     0   39.0          0 2015-05-08         ads    facebook  \n",
       "1     0   39.0          0 2015-05-10         seo      google  \n",
       "2     0   39.0          0 2015-04-04         ads        bing  \n",
       "3     1   59.0          0 2015-05-07      direct      direct  \n",
       "4     0   39.0          0 2015-05-24         ads    facebook  "
      ]
     },
     "execution_count": 11,
     "metadata": {},
     "output_type": "execute_result"
    }
   ],
   "source": [
    "res.head()"
   ]
  },
  {
   "cell_type": "code",
   "execution_count": 12,
   "metadata": {},
   "outputs": [
    {
     "data": {
      "text/plain": [
       "mobile    186471\n",
       "web       130329\n",
       "Name: device, dtype: int64"
      ]
     },
     "execution_count": 12,
     "metadata": {},
     "output_type": "execute_result"
    }
   ],
   "source": [
    "res.device.value_counts()"
   ]
  },
  {
   "cell_type": "code",
   "execution_count": 13,
   "metadata": {},
   "outputs": [
    {
     "data": {
      "text/plain": [
       "windows    100878\n",
       "iOS         95352\n",
       "android     74856\n",
       "mac         25056\n",
       "i0S           113\n",
       "wnddows        98\n",
       "anroid         79\n",
       "apple          29\n",
       "Name: operative_system, dtype: int64"
      ]
     },
     "execution_count": 13,
     "metadata": {},
     "output_type": "execute_result"
    }
   ],
   "source": [
    "res.operative_system.value_counts()"
   ]
  },
  {
   "cell_type": "markdown",
   "metadata": {},
   "source": [
    "Looks like there are a few incorrect entries here: \n",
    "\n",
    "wnddows -> windows\n",
    "\n",
    "anroid -> android\n",
    "\n",
    "i0s -> iOS\n",
    "\n",
    "apple can be mac if the device is web and iOS if device is mobile\n",
    "\n",
    "One thing to note: there are no entries for linux. This could mean that some of the missing values in this column that we saw earlier were actually supposed to be linux, but we can't say for sure"
   ]
  },
  {
   "cell_type": "code",
   "execution_count": 14,
   "metadata": {},
   "outputs": [],
   "source": [
    "res.operative_system = res.operative_system.replace('wnddows','windows')\n",
    "res.operative_system = res.operative_system.replace('anroid','android')\n",
    "res.operative_system = res.operative_system.replace('i0S','iOS')\n",
    "\n",
    "res.loc[(res.operative_system=='apple') & (res.device=='mobile'), 'operative_system'] = 'iOS'\n",
    "res.loc[(res.operative_system=='apple') & (res.device=='web'), 'operative_system'] = 'mac'"
   ]
  },
  {
   "cell_type": "code",
   "execution_count": 15,
   "metadata": {},
   "outputs": [
    {
     "data": {
      "text/plain": [
       "windows    100976\n",
       "iOS         95465\n",
       "android     74935\n",
       "mac         25085\n",
       "Name: operative_system, dtype: int64"
      ]
     },
     "execution_count": 15,
     "metadata": {},
     "output_type": "execute_result"
    }
   ],
   "source": [
    "# doublecheck that everything worked ok (e.g. windows now should be old windows + wnndows)\n",
    "res.operative_system.value_counts()"
   ]
  },
  {
   "cell_type": "markdown",
   "metadata": {},
   "source": [
    "Since we're looking anyway, let's doublecheck that the the operating system and device pairings match: (windows, web), (iOS, mobile), (android, mobile), (mac, web)"
   ]
  },
  {
   "cell_type": "code",
   "execution_count": 16,
   "metadata": {},
   "outputs": [
    {
     "name": "stdout",
     "output_type": "stream",
     "text": [
      "False\n",
      "False\n",
      "False\n",
      "False\n"
     ]
    }
   ],
   "source": [
    "print(any((res.operative_system=='windows') & (res.device=='mobile')))\n",
    "print(any((res.operative_system=='mac') & (res.device=='mobile')))\n",
    "print(any((res.operative_system=='android') & (res.device=='web')))\n",
    "print(any((res.operative_system=='iOS') & (res.device=='web')))"
   ]
  },
  {
   "cell_type": "markdown",
   "metadata": {},
   "source": [
    "All of these appear to be correct and we weren't missing any device values. We are missing operating systems, but if the device is \"mobile\" we don't know whether it should be iOS or android so we can't fill those in. Let's just write \"unknown\" there for now"
   ]
  },
  {
   "cell_type": "code",
   "execution_count": 17,
   "metadata": {},
   "outputs": [
    {
     "data": {
      "text/plain": [
       "windows    100976\n",
       "iOS         95465\n",
       "android     74935\n",
       "mac         25085\n",
       "unknown     20339\n",
       "Name: operative_system, dtype: int64"
      ]
     },
     "execution_count": 17,
     "metadata": {},
     "output_type": "execute_result"
    }
   ],
   "source": [
    "res.operative_system = res.operative_system.fillna('unknown')\n",
    "res.operative_system.value_counts()"
   ]
  },
  {
   "cell_type": "code",
   "execution_count": 18,
   "metadata": {},
   "outputs": [
    {
     "data": {
      "text/plain": [
       "0    202727\n",
       "1    114073\n",
       "Name: test, dtype: int64"
      ]
     },
     "execution_count": 18,
     "metadata": {},
     "output_type": "execute_result"
    }
   ],
   "source": [
    "res.test.value_counts()"
   ]
  },
  {
   "cell_type": "code",
   "execution_count": 19,
   "metadata": {},
   "outputs": [
    {
     "data": {
      "text/plain": [
       "39.0           200747\n",
       "59.0           112979\n",
       "536537851.0         1\n",
       "722005503.0         1\n",
       "362003840.0         1\n",
       "                ...  \n",
       "874195411.0         1\n",
       "873981330.0         1\n",
       "436979943.0         1\n",
       "873865897.0         1\n",
       "537168484.0         1\n",
       "Name: price, Length: 3076, dtype: int64"
      ]
     },
     "execution_count": 19,
     "metadata": {},
     "output_type": "execute_result"
    }
   ],
   "source": [
    "res.price.value_counts()"
   ]
  },
  {
   "cell_type": "markdown",
   "metadata": {},
   "source": [
    "Prices should be 39 or 59, but a bunch aren't. The other values seem pretty random so it's not clear how they should be corrected (i.e., which ones become 39 and which ones 59). We can potentially go off of the test variable: if it's part of the test group, then the price should be 59, otherwise 39, but this assumes that there were no mistakes in saying who has gotten a test (i.e., that all the 39's are with 0's and all 59's with 1's for the people who have prices). Let's check that first"
   ]
  },
  {
   "cell_type": "code",
   "execution_count": 20,
   "metadata": {},
   "outputs": [
    {
     "data": {
      "text/plain": [
       "test  price      \n",
       "0     39.0           200593\n",
       "      59.0              209\n",
       "      324680531.0         1\n",
       "      325355094.0         1\n",
       "      325373202.0         1\n",
       "                      ...  \n",
       "1     995723160.0         1\n",
       "      996601770.0         1\n",
       "      997796945.0         1\n",
       "      998765098.0         1\n",
       "      999762858.0         1\n",
       "Length: 3078, dtype: int64"
      ]
     },
     "execution_count": 20,
     "metadata": {},
     "output_type": "execute_result"
    }
   ],
   "source": [
    "res.groupby(['test','price']).size()"
   ]
  },
  {
   "cell_type": "markdown",
   "metadata": {},
   "source": [
    "ok so a few things to note here: first, some people got test 0 but price 59. That means that we can't correct the extreme prices by just looking at the test columns since we don't know if that's accurate. Furthermore, it looks like some of the extreme prices are labeled test 0 and others are test 1, so it's not the case that a bunch of prices from one particular group got mislabeled. Let's just remove these extreme cases then (but first check to make sure they aren't a majority of our dataset):"
   ]
  },
  {
   "cell_type": "code",
   "execution_count": 21,
   "metadata": {},
   "outputs": [
    {
     "data": {
      "text/plain": [
       "0.009703282828282828"
      ]
     },
     "execution_count": 21,
     "metadata": {},
     "output_type": "execute_result"
    }
   ],
   "source": [
    "np.mean(res.price>59)"
   ]
  },
  {
   "cell_type": "markdown",
   "metadata": {},
   "source": [
    "so about 1% of our data has a price >59, not great, but let's remove anyway. Note that even if all of these cases were from the test group, the test and control groups would still be close to the desired proportions of 66% and 33%"
   ]
  },
  {
   "cell_type": "code",
   "execution_count": 22,
   "metadata": {},
   "outputs": [],
   "source": [
    "res = res[res.price<60]"
   ]
  },
  {
   "cell_type": "code",
   "execution_count": 23,
   "metadata": {},
   "outputs": [
    {
     "data": {
      "text/plain": [
       "39.0    200747\n",
       "59.0    112979\n",
       "Name: price, dtype: int64"
      ]
     },
     "execution_count": 23,
     "metadata": {},
     "output_type": "execute_result"
    }
   ],
   "source": [
    "res.price.value_counts()"
   ]
  },
  {
   "cell_type": "markdown",
   "metadata": {},
   "source": [
    "this got rid of the cases where we had extreme price numbers, but it didn't address another issue that came up before: some people who were in the test group had a price of 39 and some people who were not in the test group had a price of 59:"
   ]
  },
  {
   "cell_type": "code",
   "execution_count": 24,
   "metadata": {},
   "outputs": [
    {
     "data": {
      "text/plain": [
       "test  price\n",
       "0     39.0     200593\n",
       "      59.0        209\n",
       "1     39.0        154\n",
       "      59.0     112770\n",
       "dtype: int64"
      ]
     },
     "execution_count": 24,
     "metadata": {},
     "output_type": "execute_result"
    }
   ],
   "source": [
    "res.groupby(['test','price']).size()"
   ]
  },
  {
   "cell_type": "markdown",
   "metadata": {},
   "source": [
    "Unfortunately, we don't know where the data label error is: for the people who are in group 0 and price 59 -- should they be in the test 1 group or should the price be 39? We don't know which column is more accurate.\n",
    "\n",
    "However, there weren't that many people who were in the wrong group compared to the total number of people so it's safe to remove them."
   ]
  },
  {
   "cell_type": "code",
   "execution_count": 25,
   "metadata": {},
   "outputs": [],
   "source": [
    "res = res[((res.price<40) & (res.test==0)) | ((res.price>40) & (res.test==1))]"
   ]
  },
  {
   "cell_type": "code",
   "execution_count": 26,
   "metadata": {},
   "outputs": [
    {
     "data": {
      "text/plain": [
       "test  price\n",
       "0     39.0     200593\n",
       "1     59.0     112770\n",
       "dtype: int64"
      ]
     },
     "execution_count": 26,
     "metadata": {},
     "output_type": "execute_result"
    }
   ],
   "source": [
    "res.groupby(['test','price']).size()"
   ]
  },
  {
   "cell_type": "markdown",
   "metadata": {},
   "source": [
    "Check to see what our proportions of people in each group were after removing these data (expecting 66% of users getting old price and 34% getting new price)"
   ]
  },
  {
   "cell_type": "code",
   "execution_count": 27,
   "metadata": {},
   "outputs": [
    {
     "data": {
      "text/plain": [
       "0    0.64013\n",
       "1    0.35987\n",
       "Name: test, dtype: float64"
      ]
     },
     "execution_count": 27,
     "metadata": {},
     "output_type": "execute_result"
    }
   ],
   "source": [
    "res.test.value_counts()/sum(res.test.value_counts())"
   ]
  },
  {
   "cell_type": "code",
   "execution_count": 28,
   "metadata": {},
   "outputs": [
    {
     "data": {
      "text/plain": [
       "0    307620\n",
       "1      5743\n",
       "Name: converted, dtype: int64"
      ]
     },
     "execution_count": 28,
     "metadata": {},
     "output_type": "execute_result"
    }
   ],
   "source": [
    "res.converted.value_counts()"
   ]
  },
  {
   "cell_type": "markdown",
   "metadata": {},
   "source": [
    "At this point, let's treat our data as cleaned enough to start answering the questions. We haven't looked at the location data yet, but it's not necessarily relevant to the main questions, so we can get back to it later if there's time."
   ]
  },
  {
   "cell_type": "markdown",
   "metadata": {},
   "source": [
    "## Part 1: Optimal Pricing <a name=\"part1\"></a>"
   ]
  },
  {
   "cell_type": "markdown",
   "metadata": {},
   "source": [
    "### Checking random assignment \n",
    "\n",
    "Are individuals actually randomly assigned into two groups? If not, then we can't be sure if the difference in conversion rate was due to changes in price or some other factor. For example, if all of the customers in the \\\\$59 group came from google seo and none of those from the \\\\$39 group did, then maybe the difference conversion rate was due to changes in advertising attribution."
   ]
  },
  {
   "cell_type": "code",
   "execution_count": 29,
   "metadata": {},
   "outputs": [
    {
     "data": {
      "text/html": [
       "<div>\n",
       "<style scoped>\n",
       "    .dataframe tbody tr th:only-of-type {\n",
       "        vertical-align: middle;\n",
       "    }\n",
       "\n",
       "    .dataframe tbody tr th {\n",
       "        vertical-align: top;\n",
       "    }\n",
       "\n",
       "    .dataframe thead th {\n",
       "        text-align: right;\n",
       "    }\n",
       "</style>\n",
       "<table border=\"1\" class=\"dataframe\">\n",
       "  <thead>\n",
       "    <tr style=\"text-align: right;\">\n",
       "      <th></th>\n",
       "      <th>mobile</th>\n",
       "      <th>web</th>\n",
       "    </tr>\n",
       "    <tr>\n",
       "      <th>test</th>\n",
       "      <th></th>\n",
       "      <th></th>\n",
       "    </tr>\n",
       "  </thead>\n",
       "  <tbody>\n",
       "    <tr>\n",
       "      <th>0</th>\n",
       "      <td>0.594423</td>\n",
       "      <td>0.405577</td>\n",
       "    </tr>\n",
       "    <tr>\n",
       "      <th>1</th>\n",
       "      <td>0.578407</td>\n",
       "      <td>0.421593</td>\n",
       "    </tr>\n",
       "  </tbody>\n",
       "</table>\n",
       "</div>"
      ],
      "text/plain": [
       "        mobile       web\n",
       "test                    \n",
       "0     0.594423  0.405577\n",
       "1     0.578407  0.421593"
      ]
     },
     "execution_count": 29,
     "metadata": {},
     "output_type": "execute_result"
    }
   ],
   "source": [
    "res.groupby('test')['device'].apply(lambda x: x.value_counts(normalize=True)).unstack()"
   ]
  },
  {
   "cell_type": "code",
   "execution_count": 30,
   "metadata": {},
   "outputs": [
    {
     "data": {
      "text/plain": [
       "Index(['user_id', 'timestamp', 'source', 'device', 'operative_system', 'test',\n",
       "       'price', 'converted', 'date', 'source_type', 'source_site'],\n",
       "      dtype='object')"
      ]
     },
     "execution_count": 30,
     "metadata": {},
     "output_type": "execute_result"
    }
   ],
   "source": [
    "res.columns"
   ]
  },
  {
   "cell_type": "code",
   "execution_count": 31,
   "metadata": {},
   "outputs": [
    {
     "data": {
      "text/html": [
       "<div>\n",
       "<style scoped>\n",
       "    .dataframe tbody tr th:only-of-type {\n",
       "        vertical-align: middle;\n",
       "    }\n",
       "\n",
       "    .dataframe tbody tr th {\n",
       "        vertical-align: top;\n",
       "    }\n",
       "\n",
       "    .dataframe thead th {\n",
       "        text-align: right;\n",
       "    }\n",
       "</style>\n",
       "<table border=\"1\" class=\"dataframe\">\n",
       "  <thead>\n",
       "    <tr style=\"text-align: right;\">\n",
       "      <th></th>\n",
       "      <th>windows</th>\n",
       "      <th>iOS</th>\n",
       "      <th>android</th>\n",
       "      <th>mac</th>\n",
       "      <th>unknown</th>\n",
       "    </tr>\n",
       "    <tr>\n",
       "      <th>test</th>\n",
       "      <th></th>\n",
       "      <th></th>\n",
       "      <th></th>\n",
       "      <th></th>\n",
       "      <th></th>\n",
       "    </tr>\n",
       "  </thead>\n",
       "  <tbody>\n",
       "    <tr>\n",
       "      <th>0</th>\n",
       "      <td>0.313565</td>\n",
       "      <td>0.305115</td>\n",
       "      <td>0.237974</td>\n",
       "      <td>0.080756</td>\n",
       "      <td>0.062589</td>\n",
       "    </tr>\n",
       "    <tr>\n",
       "      <th>1</th>\n",
       "      <td>0.327791</td>\n",
       "      <td>0.294475</td>\n",
       "      <td>0.234504</td>\n",
       "      <td>0.076439</td>\n",
       "      <td>0.066791</td>\n",
       "    </tr>\n",
       "  </tbody>\n",
       "</table>\n",
       "</div>"
      ],
      "text/plain": [
       "       windows       iOS   android       mac   unknown\n",
       "test                                                  \n",
       "0     0.313565  0.305115  0.237974  0.080756  0.062589\n",
       "1     0.327791  0.294475  0.234504  0.076439  0.066791"
      ]
     },
     "execution_count": 31,
     "metadata": {},
     "output_type": "execute_result"
    }
   ],
   "source": [
    "res.groupby('test')['operative_system'].apply(lambda x: x.value_counts(normalize=True)).unstack()"
   ]
  },
  {
   "cell_type": "code",
   "execution_count": 32,
   "metadata": {},
   "outputs": [
    {
     "data": {
      "text/html": [
       "<div>\n",
       "<style scoped>\n",
       "    .dataframe tbody tr th:only-of-type {\n",
       "        vertical-align: middle;\n",
       "    }\n",
       "\n",
       "    .dataframe tbody tr th {\n",
       "        vertical-align: top;\n",
       "    }\n",
       "\n",
       "    .dataframe thead th {\n",
       "        text-align: right;\n",
       "    }\n",
       "</style>\n",
       "<table border=\"1\" class=\"dataframe\">\n",
       "  <thead>\n",
       "    <tr style=\"text-align: right;\">\n",
       "      <th></th>\n",
       "      <th>ads-bing</th>\n",
       "      <th>ads-google</th>\n",
       "      <th>ads-yahoo</th>\n",
       "      <th>ads_facebook</th>\n",
       "      <th>ads_other</th>\n",
       "      <th>direct_traffic</th>\n",
       "      <th>friend_referral</th>\n",
       "      <th>seo-bing</th>\n",
       "      <th>seo-google</th>\n",
       "      <th>seo-other</th>\n",
       "      <th>seo-yahoo</th>\n",
       "      <th>seo_facebook</th>\n",
       "    </tr>\n",
       "    <tr>\n",
       "      <th>test</th>\n",
       "      <th></th>\n",
       "      <th></th>\n",
       "      <th></th>\n",
       "      <th></th>\n",
       "      <th></th>\n",
       "      <th></th>\n",
       "      <th></th>\n",
       "      <th></th>\n",
       "      <th></th>\n",
       "      <th></th>\n",
       "      <th></th>\n",
       "      <th></th>\n",
       "    </tr>\n",
       "  </thead>\n",
       "  <tbody>\n",
       "    <tr>\n",
       "      <th>0</th>\n",
       "      <td>0.071990</td>\n",
       "      <td>0.186982</td>\n",
       "      <td>0.023827</td>\n",
       "      <td>0.168085</td>\n",
       "      <td>0.095138</td>\n",
       "      <td>0.191204</td>\n",
       "      <td>0.064734</td>\n",
       "      <td>0.006562</td>\n",
       "      <td>0.074529</td>\n",
       "      <td>0.028986</td>\n",
       "      <td>0.021517</td>\n",
       "      <td>0.066446</td>\n",
       "    </tr>\n",
       "    <tr>\n",
       "      <th>1</th>\n",
       "      <td>0.072293</td>\n",
       "      <td>0.188483</td>\n",
       "      <td>0.024181</td>\n",
       "      <td>0.169256</td>\n",
       "      <td>0.092817</td>\n",
       "      <td>0.189362</td>\n",
       "      <td>0.066452</td>\n",
       "      <td>0.007164</td>\n",
       "      <td>0.070775</td>\n",
       "      <td>0.029542</td>\n",
       "      <td>0.021890</td>\n",
       "      <td>0.067784</td>\n",
       "    </tr>\n",
       "  </tbody>\n",
       "</table>\n",
       "</div>"
      ],
      "text/plain": [
       "      ads-bing  ads-google  ads-yahoo  ads_facebook  ads_other  \\\n",
       "test                                                             \n",
       "0     0.071990    0.186982   0.023827      0.168085   0.095138   \n",
       "1     0.072293    0.188483   0.024181      0.169256   0.092817   \n",
       "\n",
       "      direct_traffic  friend_referral  seo-bing  seo-google  seo-other  \\\n",
       "test                                                                     \n",
       "0           0.191204         0.064734  0.006562    0.074529   0.028986   \n",
       "1           0.189362         0.066452  0.007164    0.070775   0.029542   \n",
       "\n",
       "      seo-yahoo  seo_facebook  \n",
       "test                           \n",
       "0      0.021517      0.066446  \n",
       "1      0.021890      0.067784  "
      ]
     },
     "execution_count": 32,
     "metadata": {},
     "output_type": "execute_result"
    }
   ],
   "source": [
    "res.groupby('test')['source'].apply(lambda x: x.value_counts(normalize=True)).unstack()"
   ]
  },
  {
   "cell_type": "markdown",
   "metadata": {},
   "source": [
    "Across all variables, it looks like there are an equal number for each one that were assigned to test 1 and 2. That means that differences in conversion rates are likely due to price instead of another facor.\n",
    "\n",
    "I haven't merged yet with location data because I'm not sure if there will be enough time to get to this. That should also be checked for random assignment."
   ]
  },
  {
   "cell_type": "markdown",
   "metadata": {},
   "source": [
    "### Testing effects of price"
   ]
  },
  {
   "cell_type": "markdown",
   "metadata": {},
   "source": [
    "Should the company sell the software for 39 or 59?\n",
    "\n",
    "Because the price point is 50\\% higher, the break-even point is if conversion at the higher price point is at least 2/3 of the conversion rate at the lower price.\n",
    "\n",
    "Let's rephrase this as: Does increasing the price cause fewer people to buy the software, or, equivalently, is the proportion of people who bought the software at the 59 price < the proportion of people who bought it at the 39 price. (Note that it's < because if the proprtion was the same or >, then we want to increase the price; if not we do not want to change the price.) We can simply test with a two-sample, one-tailed z-test where H0: p0 <= p1 and HA: p0 > p1 where p0 is the proportion of conversions for test0 and p1 is the prop. conv. for test1\n",
    "\n",
    "Ultimately we want to convert this to a more relevant question: how much more money does the company make per customer when selling for \\\\$59? \n",
    "\n",
    "First let's get the number of conversions for each group:"
   ]
  },
  {
   "cell_type": "code",
   "execution_count": 33,
   "metadata": {
    "scrolled": true
   },
   "outputs": [
    {
     "name": "stdout",
     "output_type": "stream",
     "text": [
      "test  converted\n",
      "0     0            196604\n",
      "      1              3989\n",
      "1     0            111016\n",
      "      1              1754\n",
      "dtype: int64\n"
     ]
    }
   ],
   "source": [
    "resultsTable = res.groupby(['test','converted']).size()\n",
    "print(resultsTable)"
   ]
  },
  {
   "cell_type": "code",
   "execution_count": 34,
   "metadata": {},
   "outputs": [
    {
     "name": "stdout",
     "output_type": "stream",
     "text": [
      "Control Conversion Rate $39: 2.03%\n",
      "Test Conversion Rate $59: 1.58%\n"
     ]
    }
   ],
   "source": [
    "# note that because the numbers of people in each group are not even, \n",
    "# we want to be looking at proportions and not total # of conversions\n",
    "ctrl_conv=resultsTable[0][1]/resultsTable[0][0]\n",
    "test_conv=resultsTable[1][1]/resultsTable[1][0]\n",
    "print('Control Conversion Rate $39: ' + str(round(ctrl_conv*100,2)) + '%')\n",
    "print('Test Conversion Rate $59: ' + str(round(test_conv*100,2)) + '%')"
   ]
  },
  {
   "cell_type": "markdown",
   "metadata": {},
   "source": [
    "So just by looking at these proportions, a smaller proportion of customers (1.58%) bought the more expensive product than the cheaper product (2.03%). Let's see if this difference is significant"
   ]
  },
  {
   "cell_type": "code",
   "execution_count": 35,
   "metadata": {},
   "outputs": [
    {
     "name": "stdout",
     "output_type": "stream",
     "text": [
      "8.83603348223628 4.958853307471013e-19\n"
     ]
    }
   ],
   "source": [
    "stat, pval = pztest([resultsTable[0][1],resultsTable[1][1]], [resultsTable[0][0],resultsTable[1][0]], \n",
    "                   alternative='larger')\n",
    "print(stat,pval)"
   ]
  },
  {
   "cell_type": "markdown",
   "metadata": {},
   "source": [
    "The test says that, overall, the proportion of site visitors who bought the product at the lower price is significantly larger than the proportion of site visitors who bought the product at the higher price.\n",
    "\n",
    "The break even point for the test conversion rate is 2/3 of the control conversion rate ~= 1.35%\n",
    "\n",
    "Let's put some confidence bounds on our estimate of the test conversion rate and make sure it's comfortably above our break even point:"
   ]
  },
  {
   "cell_type": "code",
   "execution_count": 36,
   "metadata": {},
   "outputs": [
    {
     "name": "stdout",
     "output_type": "stream",
     "text": [
      "95% CI: (0.0156,0.016)\n"
     ]
    }
   ],
   "source": [
    "se_ctrl = np.sqrt(ctrl_conv*(1-ctrl_conv)/res[res.test==0].size)\n",
    "se_test = np.sqrt(test_conv*(1-test_conv)/res[res.test==1].size)\n",
    "m = 1.96 * se_test\n",
    "print(\"95% CI: ({:.3g},{:.3g})\".format(test_conv-m, test_conv+m))"
   ]
  },
  {
   "cell_type": "markdown",
   "metadata": {},
   "source": [
    "So we can be fairly confident that our conversion rate well above what the break-even point for changing the software price. \n",
    "\n",
    "We can also see what effect switching the price for *all* customers would have on revenue (relative to them staying at the old price):"
   ]
  },
  {
   "cell_type": "code",
   "execution_count": 37,
   "metadata": {},
   "outputs": [
    {
     "name": "stdout",
     "output_type": "stream",
     "text": [
      "Switch to higher price point is predicted to increase revenue by 16.2% to 19.4%\n"
     ]
    }
   ],
   "source": [
    "rev_inc_lower = ((test_conv-m)*59-(ctrl_conv*39))/(ctrl_conv*39)\n",
    "rev_inc_higher = ((test_conv+m)*59-(ctrl_conv*39))/(ctrl_conv*39)\n",
    "print(\"Switch to higher price point is predicted to increase revenue by {:.1%} to {:.1%}\".format(rev_inc_lower,\n",
    "                                                                                  rev_inc_higher))"
   ]
  },
  {
   "cell_type": "markdown",
   "metadata": {},
   "source": [
    "We can look at this one more way in terms of the odds ratio (OR): an OR of 1 means that people are equally likely to buy the product regardless of test group, OR > 1 means that conversions are more likely in test group 1 and an OR < 1 means that conversions are less likely"
   ]
  },
  {
   "cell_type": "code",
   "execution_count": 38,
   "metadata": {},
   "outputs": [
    {
     "name": "stdout",
     "output_type": "stream",
     "text": [
      "Odds Ratio: 0.7787038590468387\n"
     ]
    }
   ],
   "source": [
    "OR = (resultsTable[1][1]*resultsTable[0][0])/ (resultsTable[0][1]*resultsTable[1][0])\n",
    "print('Odds Ratio: ' + str(OR))"
   ]
  },
  {
   "cell_type": "markdown",
   "metadata": {},
   "source": [
    "The odds are 0.78 lower that someone will buy the product if given the \\\\$59 price\n",
    "\n",
    "However, it's probably not surprising that the amount of sales decreases as the price goes up. The actual question we are interested in is whether the increase in price offsets the decrease in sales. That is, has this changed the total expected revenue? That is the real metric of interest. Based on the odds ratio, we can say that for every 100 people who buy the lower price item, we expect approximately 78 people to buy the newer priced item:"
   ]
  },
  {
   "cell_type": "code",
   "execution_count": 39,
   "metadata": {},
   "outputs": [
    {
     "name": "stdout",
     "output_type": "stream",
     "text": [
      "Predicted change in revenue for 100 customers: $694.35\n"
     ]
    }
   ],
   "source": [
    "old_price = 39\n",
    "new_price = 59\n",
    "old_customers = 100\n",
    "new_customers = old_customers*OR\n",
    "pred_rev_change = new_customers*new_price - old_customers*old_price\n",
    "print('Predicted change in revenue for 100 customers: $' + str(round(pred_rev_change,2)))"
   ]
  },
  {
   "cell_type": "markdown",
   "metadata": {},
   "source": [
    "By changing the price, although fewer people bought the product, the company would earn an additional \\\\$694 for every 100 customers who would have bought it at the old price, or an increase of \\\\$6.94 per customer on average. This value is not \\\\$20 (the difference between the new and old price) because it takes into account the fact that fewer people will be buying the product. \n",
    "\n",
    "We also saw that 22\\% fewer customers bought the product at the higher price than at the lower price. \n",
    "\n",
    "\n",
    "**Conclusion**: Increasing the price to \\\\$59 does increase the total revenue (between 16.4% and 19.2%), but at the expense of ~22% of the customers."
   ]
  },
  {
   "cell_type": "markdown",
   "metadata": {},
   "source": [
    "## Part 2: Insights <a name=\"part2\"></a>\n",
    "\n",
    "### Breakdown by customer segments\n",
    "\n",
    "So far, we've looked at the overall data, but now let's see if we can find any interesting patterns in particular groups of subjects. We can, for example, look at how the data are broken up by (1) source, (2) device, and (3) operating system\n",
    "\n",
    "IMPORTANT NOTE: We should **not** perform any additional statistical tests on partitioned data. This is a form of p-hacking: if some of these comparisons were not of interest before we planned our experiment, we will inflate the Type I error rate by conducting more and more comparisons "
   ]
  },
  {
   "cell_type": "code",
   "execution_count": 40,
   "metadata": {},
   "outputs": [
    {
     "data": {
      "image/png": "[encoded data removed]",
      "text/plain": [
       "<Figure size 1008x576 with 1 Axes>"
      ]
     },
     "metadata": {
      "needs_background": "light"
     },
     "output_type": "display_data"
    }
   ],
   "source": [
    "fig=plt.figure(figsize=(14, 8))\n",
    "ax = sns.barplot(x='source', y='converted',hue='test', data=res)\n",
    "ax.set_ylabel('Converion Proportion', fontsize=16)\n",
    "ax.set_xlabel('Marketing Channel', fontsize=16)\n",
    "blue_patch = mpatches.Patch(color=ax.get_children()[0].get_facecolor(), label='Old Price')\n",
    "or_patch = mpatches.Patch(color=ax.get_children()[12].get_facecolor(), label='New Price')\n",
    "_ = ax.legend(handles=[blue_patch,or_patch], prop = {'size':16})"
   ]
  },
  {
   "cell_type": "markdown",
   "metadata": {},
   "source": [
    "It seems like referrals, seo_bing and seo_yahoo lead to the largest drops in conversion rates, but ads and seos from google, other ads, direct traffic and seo from facebook do not lead to as much of a change in conversion rate. In particular, it might be a good strategy to focus on google advertising and seo since product pricing seems to have the least effect on conversion rates in those markets. \n",
    "\n",
    "The highest conversion rates are from friend referrals. There is a drop in conversion from 4.19\\% to 3.34\\% following the price increase.\n",
    "\n",
    "Let's look at a similar plots for devices and operating systems "
   ]
  },
  {
   "cell_type": "code",
   "execution_count": 41,
   "metadata": {},
   "outputs": [
    {
     "data": {
      "image/png": "[encoded data removed]",
      "text/plain": [
       "<Figure size 432x288 with 1 Axes>"
      ]
     },
     "metadata": {
      "needs_background": "light"
     },
     "output_type": "display_data"
    }
   ],
   "source": [
    "#fig=plt.figure(figsize=(6, 6))\n",
    "ax = sns.barplot(x='device', y='converted',hue='test', data=res)\n",
    "ax.set_ylabel('Conversion Proportion', fontsize=16)\n",
    "ax.set_xlabel('Device', fontsize=14)\n",
    "blue_patch = mpatches.Patch(color=ax.get_children()[0].get_facecolor(), label='Old Price')\n",
    "or_patch = mpatches.Patch(color=ax.get_children()[3].get_facecolor(), label='New Price')\n",
    "ax.legend(handles=[blue_patch,or_patch], prop = {'size':16})\n",
    "plt.show()"
   ]
  },
  {
   "cell_type": "code",
   "execution_count": 42,
   "metadata": {},
   "outputs": [
    {
     "data": {
      "image/png": "[encoded data removed]",
      "text/plain": [
       "<Figure size 432x288 with 1 Axes>"
      ]
     },
     "metadata": {
      "needs_background": "light"
     },
     "output_type": "display_data"
    }
   ],
   "source": [
    "ax = sns.barplot(x='operative_system', y='converted',hue='test', data=res)\n",
    "ax.set_ylabel('Conversion Proportion', fontsize=16)\n",
    "ax.set_xlabel('Operative System', fontsize=14)\n",
    "blue_patch = mpatches.Patch(color=ax.get_children()[0].get_facecolor(), label='Old Price')\n",
    "or_patch = mpatches.Patch(color=ax.get_children()[5].get_facecolor(), label='New Price')\n",
    "ax.legend(handles=[blue_patch,or_patch], prop = {'size':16})\n",
    "plt.show()"
   ]
  },
  {
   "cell_type": "markdown",
   "metadata": {},
   "source": [
    "No particular patterns are obvious for conversion rate as a function of device or operative system."
   ]
  },
  {
   "cell_type": "markdown",
   "metadata": {},
   "source": [
    "## Part 3: Did the experiment last too long? <a name=\"part3\"></a>\n",
    "\n",
    "We can't continuously peak at our data as we do the experiment as this will inflate our error rates: suppose that in the first 10 samples we collected, the Test 1 group had a 100% conversion rate and the Test 0 group had 50% conversion. We might be tempted to conclude that Test 1 doubled our conversion rate, but this might just be due to the particular sample of 10 people we happened to get. As we get more samples, the estimated rate should regress toward the mean (true rate). So we want to know, before our experiment begins, how many people we would need to test before we can expect to find a difference between Test 0 and Test 1 if such a difference existed. To do this, we need to determine what a reasonable difference would be. For example, if the higher price decreased or increased (you never know!) the conversion rate by, say 2%, we would want to stop the experiment and change prices. If, by the time we expected to have enough people to be able to tell the difference and there was no difference, we can also stop the experiment and raise the price since there would not have been enough evidence to indicate that changing the price changed the conversion rate. \n",
    "\n",
    "We can relate this to *when* we should stop the experiment in terms of a concrete date by estimating how many people visit the site per day. From this, we can predict how many days are needed to reach our target number of visitors. \n",
    "\n",
    "In reality, would need to consult with VP or other business stakeholders about minimum difference from break-even point for which rolling out the price increase would be worth it.\n",
    "\n",
    "For the time being, assume in hindsight that goal was to discover an effect at least as large as the one detected in this study, of 0.25% above break-even (absolute percentage). Meaning that if the test is significant, we know that the conversion rate has dipped below 1.5% (from 2.02%) and we are approaching out break-even point.\n",
    "\n",
    "Let's start by first computing how many visitors we would need to detect a change of % in conversion rate assuming that the observed proportion of conversions for Test 0 in our experiment is a good estimate of the base conversion rate. "
   ]
  },
  {
   "cell_type": "code",
   "execution_count": 43,
   "metadata": {},
   "outputs": [
    {
     "data": {
      "text/plain": [
       "0.015799524392880307"
      ]
     },
     "execution_count": 43,
     "metadata": {},
     "output_type": "execute_result"
    }
   ],
   "source": [
    "test_conv"
   ]
  },
  {
   "cell_type": "code",
   "execution_count": 44,
   "metadata": {},
   "outputs": [
    {
     "data": {
      "text/plain": [
       "0.020289515981363554"
      ]
     },
     "execution_count": 44,
     "metadata": {},
     "output_type": "execute_result"
    }
   ],
   "source": [
    "ctrl_conv"
   ]
  },
  {
   "cell_type": "code",
   "execution_count": 45,
   "metadata": {},
   "outputs": [
    {
     "name": "stdout",
     "output_type": "stream",
     "text": [
      "15179.0\n"
     ]
    }
   ],
   "source": [
    "p0 = ctrl_conv\n",
    "p1 = 0.0135+0.0025\n",
    "sample_size = (1.96+0.84)**2 * (p0*(1-p0)+p1*(1-p1))/(p0-p1)**2\n",
    "print(np.ceil(sample_size))"
   ]
  },
  {
   "cell_type": "markdown",
   "metadata": {},
   "source": [
    "This suggests that we'd need at least ~15200 total to notice a drop in conversion rate to 1.5% given a 95% confidence interval and 80% power.\n",
    "\n",
    "Now let's see how long (in # days) it would take us before we reached that threshold. We're going to look (1) number of people assigned to each group over time and (2) number of conversions over time"
   ]
  },
  {
   "cell_type": "code",
   "execution_count": 46,
   "metadata": {},
   "outputs": [],
   "source": [
    "visitors_by_date = res.groupby('test').date.value_counts()\n",
    "visitors_by_date = visitors_by_date.reset_index(level=0)\n",
    "visitors_by_date.rename(columns={'date':'visitor_count'},inplace=True)\n",
    "visitors_by_date.reset_index(level=0, inplace=True)\n",
    "visitors_by_date = visitors_by_date.sort_values(['test','date'])"
   ]
  },
  {
   "cell_type": "code",
   "execution_count": 47,
   "metadata": {},
   "outputs": [
    {
     "data": {
      "image/png": "[encoded data removed]",
      "text/plain": [
       "<Figure size 720x720 with 1 Axes>"
      ]
     },
     "metadata": {
      "needs_background": "light"
     },
     "output_type": "display_data"
    }
   ],
   "source": [
    "fig=plt.figure(figsize=(10, 10))\n",
    "ax = sns.lineplot(x='date', y='visitor_count', hue='test', data=visitors_by_date)\n",
    "ax.legend(['Old Price', 'New Price'], prop = {'size':16})\n",
    "ax.set_ylabel('# of visitors', fontsize=16)\n",
    "ax.set_xlabel('Date', fontsize=14)\n",
    "plt.show()"
   ]
  },
  {
   "cell_type": "markdown",
   "metadata": {},
   "source": [
    "There's soemthing very strange about this pattern of data. Looking up the dates of the peaks, they are on Fridays with a small drop off on Saturday. Fewest visitors are Monday through Wednesday. Without knowing more about the company/product, it's not obvious why that might be the case. It's also strange that there's a fairly consistent base rate of visitors Monday-Wednesday (~1000 for the low price site version). This could be the result of consistent bot traffic or an artifact of the dataset creation process if this is a synthetic dataset. To doublecheck, we can see if there are any sales on those days (below).\n",
    "\n",
    "Note also that the number of visitors on each specific day over the course of these 3 months is fairly flat -- the site isn't losing or gaining additional traffic. This is also important for determining how long our experiment should last: the rate of visitors is consistent over the course of the experiment. Since there are more Old Price visitors, we really only need to know when we reach ~7,600 New Price visitors:"
   ]
  },
  {
   "cell_type": "code",
   "execution_count": 48,
   "metadata": {},
   "outputs": [],
   "source": [
    "complete_date = visitors_by_date.loc[np.argmax(visitors_by_date[visitors_by_date.test==1].visitor_count.cumsum().gt(7600))]"
   ]
  },
  {
   "cell_type": "code",
   "execution_count": 49,
   "metadata": {},
   "outputs": [
    {
     "name": "stdout",
     "output_type": "stream",
     "text": [
      "32 days 00:00:00\n"
     ]
    }
   ],
   "source": [
    "min_exp_time = complete_date.date-visitors_by_date.date.min()\n",
    "print(min_exp_time)"
   ]
  },
  {
   "cell_type": "markdown",
   "metadata": {},
   "source": [
    "We could have known within one month, instead of 3 months, whether or not the conversion rate would have dipped below 1.5%, harming our chances of breaking even with the new software price change"
   ]
  },
  {
   "cell_type": "markdown",
   "metadata": {},
   "source": [
    "## Location Data\n",
    "\n",
    "At this point, I've reached the time limit. The following code is done beyond the time limit. \n",
    "\n",
    "Start by loading in and visualizing the location data."
   ]
  },
  {
   "cell_type": "code",
   "execution_count": 50,
   "metadata": {},
   "outputs": [],
   "source": [
    "import cartopy.crs as ccrs"
   ]
  },
  {
   "cell_type": "code",
   "execution_count": 51,
   "metadata": {},
   "outputs": [],
   "source": [
    "user = pd.read_csv('user_table.csv',index_col=0)"
   ]
  },
  {
   "cell_type": "code",
   "execution_count": 52,
   "metadata": {},
   "outputs": [
    {
     "data": {
      "text/html": [
       "<div>\n",
       "<style scoped>\n",
       "    .dataframe tbody tr th:only-of-type {\n",
       "        vertical-align: middle;\n",
       "    }\n",
       "\n",
       "    .dataframe tbody tr th {\n",
       "        vertical-align: top;\n",
       "    }\n",
       "\n",
       "    .dataframe thead th {\n",
       "        text-align: right;\n",
       "    }\n",
       "</style>\n",
       "<table border=\"1\" class=\"dataframe\">\n",
       "  <thead>\n",
       "    <tr style=\"text-align: right;\">\n",
       "      <th></th>\n",
       "      <th>city</th>\n",
       "      <th>country</th>\n",
       "      <th>lat</th>\n",
       "      <th>long</th>\n",
       "    </tr>\n",
       "    <tr>\n",
       "      <th>user_id</th>\n",
       "      <th></th>\n",
       "      <th></th>\n",
       "      <th></th>\n",
       "      <th></th>\n",
       "    </tr>\n",
       "  </thead>\n",
       "  <tbody>\n",
       "    <tr>\n",
       "      <th>510335</th>\n",
       "      <td>Peabody</td>\n",
       "      <td>USA</td>\n",
       "      <td>42.53</td>\n",
       "      <td>-70.97</td>\n",
       "    </tr>\n",
       "    <tr>\n",
       "      <th>89568</th>\n",
       "      <td>Reno</td>\n",
       "      <td>USA</td>\n",
       "      <td>39.54</td>\n",
       "      <td>-119.82</td>\n",
       "    </tr>\n",
       "    <tr>\n",
       "      <th>434134</th>\n",
       "      <td>Rialto</td>\n",
       "      <td>USA</td>\n",
       "      <td>34.11</td>\n",
       "      <td>-117.39</td>\n",
       "    </tr>\n",
       "    <tr>\n",
       "      <th>289769</th>\n",
       "      <td>Carson City</td>\n",
       "      <td>USA</td>\n",
       "      <td>39.15</td>\n",
       "      <td>-119.74</td>\n",
       "    </tr>\n",
       "    <tr>\n",
       "      <th>939586</th>\n",
       "      <td>Chicago</td>\n",
       "      <td>USA</td>\n",
       "      <td>41.84</td>\n",
       "      <td>-87.68</td>\n",
       "    </tr>\n",
       "  </tbody>\n",
       "</table>\n",
       "</div>"
      ],
      "text/plain": [
       "                city country    lat    long\n",
       "user_id                                    \n",
       "510335       Peabody     USA  42.53  -70.97\n",
       "89568           Reno     USA  39.54 -119.82\n",
       "434134        Rialto     USA  34.11 -117.39\n",
       "289769   Carson City     USA  39.15 -119.74\n",
       "939586       Chicago     USA  41.84  -87.68"
      ]
     },
     "execution_count": 52,
     "metadata": {},
     "output_type": "execute_result"
    }
   ],
   "source": [
    "user.head()"
   ]
  },
  {
   "cell_type": "markdown",
   "metadata": {},
   "source": [
    "### Data Cleaning"
   ]
  },
  {
   "cell_type": "code",
   "execution_count": 53,
   "metadata": {},
   "outputs": [
    {
     "data": {
      "text/plain": [
       "USA    275616\n",
       "Name: country, dtype: int64"
      ]
     },
     "execution_count": 53,
     "metadata": {},
     "output_type": "execute_result"
    }
   ],
   "source": [
    "user.country.value_counts()"
   ]
  },
  {
   "cell_type": "code",
   "execution_count": 54,
   "metadata": {},
   "outputs": [
    {
     "data": {
      "image/png": "[encoded data removed]",
      "text/plain": [
       "<Figure size 1152x1152 with 1 Axes>"
      ]
     },
     "metadata": {
      "needs_background": "light"
     },
     "output_type": "display_data"
    }
   ],
   "source": [
    "fig = plt.figure(figsize=(16, 16))\n",
    "ax = plt.axes(projection=ccrs.PlateCarree())\n",
    "ax.coastlines()\n",
    "_ = plt.scatter(user['long'],user['lat'],  color='red', \n",
    "          marker='o',s=25,edgecolor='k',linewidth=0.5,alpha=0.3)"
   ]
  },
  {
   "cell_type": "markdown",
   "metadata": {},
   "source": [
    "There are some funny errors here -- all countries are listed as USA, but there are a few points outside the range:"
   ]
  },
  {
   "cell_type": "code",
   "execution_count": 55,
   "metadata": {},
   "outputs": [
    {
     "data": {
      "text/plain": [
       "array(['Saint Petersburg'], dtype=object)"
      ]
     },
     "execution_count": 55,
     "metadata": {},
     "output_type": "execute_result"
    }
   ],
   "source": [
    "user[user.long>0].city.unique()"
   ]
  },
  {
   "cell_type": "markdown",
   "metadata": {},
   "source": [
    "Ok, this should probably be St. Petersburg Florida lat = 27.76, long = -82.64"
   ]
  },
  {
   "cell_type": "code",
   "execution_count": 56,
   "metadata": {},
   "outputs": [],
   "source": [
    "user.loc[user.city==\"Saint Petersburg\", 'lat'] = 27.76\n",
    "user.loc[user.city==\"Saint Petersburg\", 'long'] = -82.64"
   ]
  },
  {
   "cell_type": "code",
   "execution_count": 62,
   "metadata": {},
   "outputs": [
    {
     "data": {
      "image/png": "[encoded data removed]",
      "text/plain": [
       "<Figure size 1152x1152 with 1 Axes>"
      ]
     },
     "metadata": {
      "needs_background": "light"
     },
     "output_type": "display_data"
    }
   ],
   "source": [
    "# check to make sure everything worked\n",
    "fig = plt.figure(figsize=(16, 16))\n",
    "ax = plt.axes(projection=ccrs.PlateCarree())\n",
    "ax.coastlines()\n",
    "_ = plt.scatter(user['long'],user['lat'],  color='red', \n",
    "          marker='o',s=25,edgecolor='k',linewidth=0.5,alpha=0.3)"
   ]
  },
  {
   "cell_type": "markdown",
   "metadata": {},
   "source": [
    "There may be other errors, but they are not obvious from this image. For next steps, would be interesting to apply some sort of clustering and then visualize, but not enough time."
   ]
  },
  {
   "cell_type": "markdown",
   "metadata": {},
   "source": [
    "### Location Data Analysis"
   ]
  },
  {
   "cell_type": "code",
   "execution_count": 63,
   "metadata": {},
   "outputs": [],
   "source": [
    "# merge with existing data\n",
    "res = pd.merge(left=res,right=user,how='left',on='user_id')"
   ]
  },
  {
   "cell_type": "code",
   "execution_count": 64,
   "metadata": {},
   "outputs": [
    {
     "data": {
      "image/png": "[encoded data removed]",
      "text/plain": [
       "<Figure size 1008x720 with 1 Axes>"
      ]
     },
     "metadata": {
      "needs_background": "light"
     },
     "output_type": "display_data"
    }
   ],
   "source": [
    "# if we look at the conversion rate by city, ideally we'd normalize by the city population. We could likely pull that from somewhere \n",
    "# and also get info about what city is in which state and do a state-by-state analysis, but if we are just working with the present\n",
    "# data, maybe we can simply restrict ourselves to cities with at least 1000 users.\n",
    "\n",
    "# there must be an easier way to do this...\n",
    "big_cities = res.city.value_counts().iloc[np.flatnonzero(res.city.value_counts().gt(1000))].index\n",
    "big_res = res[res.city.isin(big_cities)]\n",
    "\n",
    "convprop_by_city = big_res.groupby(['test','city'])['converted'].mean()*100\n",
    "convprop_by_city = convprop_by_city.reset_index(level=0)\n",
    "convprop_by_city.reset_index(level=0, inplace=True)\n",
    "\n",
    "fig=plt.figure(figsize=(14, 10))\n",
    "ax = sns.barplot(y='city', x='converted',hue='test', data=convprop_by_city)\n",
    "ax.set_xlabel('Conversion Rate (%)', fontsize=16)\n",
    "ax.set_ylabel('City', fontsize=16)\n",
    "blue_patch = mpatches.Patch(color=ax.get_children()[0].get_facecolor(), label='Old Price')\n",
    "or_patch = mpatches.Patch(color=ax.get_children()[61].get_facecolor(), label='New Price')\n",
    "ax.legend(handles=[blue_patch,or_patch], prop = {'size':16})\n",
    "plt.show()"
   ]
  },
  {
   "cell_type": "markdown",
   "metadata": {},
   "source": [
    "While increasing the price tended to decrease conversion rate in most cities, there were some exceptions: Austin, Dallas, Fort Worth, Las Vegas, Mesa (AZ), Raleigh, San Jose, and Springfield. Half of these cities are in the Southwest and three of them are in Texas. The other two Texas cities in this list, Plano and Houston, saw declines with the new price. It may be meaningful that of the 62 cities from which at least 1000 people visited the site during the experiment, 5 of them were in Texas. It may be helpful to target this market specifically. To look at this more generally, one could look at a heatmap of the US looking at the places from which the site got the most visitors."
   ]
  }
 ],
 "metadata": {
  "kernelspec": {
   "display_name": "Python 3",
   "language": "python",
   "name": "python3"
  },
  "language_info": {
   "codemirror_mode": {
    "name": "ipython",
    "version": 3
   },
   "file_extension": ".py",
   "mimetype": "text/x-python",
   "name": "python",
   "nbconvert_exporter": "python",
   "pygments_lexer": "ipython3",
   "version": "3.7.7"
  },
  "toc": {
   "base_numbering": 1,
   "nav_menu": {},
   "number_sections": true,
   "sideBar": true,
   "skip_h1_title": true,
   "title_cell": "Table of Contents",
   "title_sidebar": "Contents",
   "toc_cell": false,
   "toc_position": {
    "height": "calc(100% - 180px)",
    "left": "10px",
    "top": "150px",
    "width": "315.2px"
   },
   "toc_section_display": true,
   "toc_window_display": true
  },
  "varInspector": {
   "cols": {
    "lenName": 16,
    "lenType": 16,
    "lenVar": 40
   },
   "kernels_config": {
    "python": {
     "delete_cmd_postfix": "",
     "delete_cmd_prefix": "del ",
     "library": "var_list.py",
     "varRefreshCmd": "print(var_dic_list())"
    },
    "r": {
     "delete_cmd_postfix": ") ",
     "delete_cmd_prefix": "rm(",
     "library": "var_list.r",
     "varRefreshCmd": "cat(var_dic_list()) "
    }
   },
   "types_to_exclude": [
    "module",
    "function",
    "builtin_function_or_method",
    "instance",
    "_Feature"
   ],
   "window_display": false
  }
 },
 "nbformat": 4,
 "nbformat_minor": 2
}
